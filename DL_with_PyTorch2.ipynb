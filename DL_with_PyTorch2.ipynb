{
  "nbformat": 4,
  "nbformat_minor": 0,
  "metadata": {
    "colab": {
      "name": "DL with_PyTorch.ipynb",
      "provenance": [],
      "collapsed_sections": [],
      "include_colab_link": true
    },
    "kernelspec": {
      "name": "python3",
      "display_name": "Python 3"
    },
    "language_info": {
      "name": "python"
    },
    "accelerator": "GPU",
    "gpuClass": "standard"
  },
  "cells": [
    {
      "cell_type": "markdown",
      "metadata": {
        "id": "view-in-github",
        "colab_type": "text"
      },
      "source": [
        "<a href=\"https://colab.research.google.com/github/SangMin316/DL-with-PyTorch/blob/main/DL_with_PyTorch.ipynb\" target=\"_parent\"><img src=\"https://colab.research.google.com/assets/colab-badge.svg\" alt=\"Open In Colab\"/></a>"
      ]
    },
    {
      "cell_type": "markdown",
      "source": [
        "#Pytorch 기초문법"
      ],
      "metadata": {
        "id": "pm2zNf25hPBv"
      }
    },
    {
      "cell_type": "markdown",
      "source": [
        "# 1.Tensor 다루기\n",
        "\n",
        "\n",
        "offset: 탠서에서 첫 번째 요소가 스토리지에 저장된 인덱스\n",
        "\n",
        "스트라이드: 각 차원에 따라 다음요소를 얻기 위해 skip이 필요한 스토리지의 요소 갯수"
      ],
      "metadata": {
        "id": "U1b5lid1ikwW"
      }
    },
    {
      "cell_type": "markdown",
      "source": [
        "GPU 사용하기"
      ],
      "metadata": {
        "id": "I84giJLjkXRf"
      }
    },
    {
      "cell_type": "code",
      "source": [
        "import os\n",
        "os.environ[\"CUDA_VISIBLE_DEVICES\"]=\"0\" # 첫번째 gpu 쓰겠다."
      ],
      "metadata": {
        "id": "Xk08vJxZkO4W"
      },
      "execution_count": null,
      "outputs": []
    },
    {
      "cell_type": "code",
      "execution_count": 8,
      "metadata": {
        "colab": {
          "base_uri": "https://localhost:8080/"
        },
        "id": "falfUovxbAlm",
        "outputId": "ecdd938e-8053-44b4-b03f-535f236db94f"
      },
      "outputs": [
        {
          "output_type": "stream",
          "name": "stdout",
          "text": [
            "tensor([[1, 2],\n",
            "        [3, 4]])\n",
            "------------------------\n",
            "tensor([[1, 2],\n",
            "        [3, 4]], device='cuda:0')\n",
            "------------------------\n",
            "tensor([[1., 2.],\n",
            "        [3., 4.]], dtype=torch.float64)\n",
            "[[1 2]\n",
            " [3 4]]\n"
          ]
        }
      ],
      "source": [
        "import torch\n",
        "A = torch.tensor([[1,2],[3,4]])\n",
        "print(A)\n",
        "print('------------------------')\n",
        "print(torch.tensor([[1,2],[3,4]], device=\"cuda:0\")) #0번째 GPU에 tensor 올리기\n",
        "print('------------------------')\n",
        "print(torch.tensor([[1,2],[3,4]], dtype=torch.float64)) # tensor element의 type 설정 가능\n",
        "print(A.numpy()) #tensor to ndarray"
      ]
    },
    {
      "cell_type": "markdown",
      "source": [
        "GPU에 있는 tensor를 CPU의 tensor로 변환"
      ],
      "metadata": {
        "id": "Gn7DUdKskkt9"
      }
    },
    {
      "cell_type": "code",
      "source": [
        "A = torch.tensor(([1,2],[3,4]), device = \"cuda:0\") # \n",
        "print(A.to(\"cpu\"))"
      ],
      "metadata": {
        "colab": {
          "base_uri": "https://localhost:8080/"
        },
        "id": "_7DnOTYjjBMb",
        "outputId": "7d03e1df-93b1-4d64-9b05-0c6b90056209"
      },
      "execution_count": null,
      "outputs": [
        {
          "output_type": "stream",
          "name": "stdout",
          "text": [
            "tensor([[1, 2],\n",
            "        [3, 4]])\n"
          ]
        }
      ]
    },
    {
      "cell_type": "markdown",
      "source": [
        "tensor의 index 조작"
      ],
      "metadata": {
        "id": "RtujkmmJlDHa"
      }
    },
    {
      "cell_type": "code",
      "source": [
        "temp = torch.FloatTensor([1, 2, 3, 4, 5, 6, 7]) #1차원 tensor\n",
        "print(temp[0], temp[1], temp[-1])\n",
        "print('------------------------')\n",
        "print(temp[2:5], temp[4:-1])"
      ],
      "metadata": {
        "colab": {
          "base_uri": "https://localhost:8080/"
        },
        "id": "N5jHUiAXkx10",
        "outputId": "ed70b706-391e-4e61-b40d-3a1313e16018"
      },
      "execution_count": null,
      "outputs": [
        {
          "output_type": "stream",
          "name": "stdout",
          "text": [
            "tensor(1.) tensor(2.) tensor(7.)\n",
            "------------------------\n",
            "tensor([3., 4., 5.]) tensor([5., 6.])\n"
          ]
        }
      ]
    },
    {
      "cell_type": "markdown",
      "source": [
        "Tensor 연산 및 차원 조작\n"
      ],
      "metadata": {
        "id": "YkWBGQlslxY1"
      }
    },
    {
      "cell_type": "code",
      "source": [
        "v = torch.tensor([1, 2, 3])\n",
        "w = torch.tensor([3, 4, 6])\n",
        "print(w - v)"
      ],
      "metadata": {
        "colab": {
          "base_uri": "https://localhost:8080/",
          "height": 223
        },
        "id": "37nr7OF7l1ii",
        "outputId": "1fae24e6-aca9-46c9-b8fc-353cd969085a"
      },
      "execution_count": null,
      "outputs": [
        {
          "output_type": "stream",
          "name": "stdout",
          "text": [
            "tensor([2, 2, 3])\n"
          ]
        },
        {
          "output_type": "error",
          "ename": "TypeError",
          "evalue": "ignored",
          "traceback": [
            "\u001b[0;31m---------------------------------------------------------------------------\u001b[0m",
            "\u001b[0;31mTypeError\u001b[0m                                 Traceback (most recent call last)",
            "\u001b[0;32m<ipython-input-9-bb7846d89497>\u001b[0m in \u001b[0;36m<module>\u001b[0;34m()\u001b[0m\n\u001b[1;32m      2\u001b[0m \u001b[0mw\u001b[0m \u001b[0;34m=\u001b[0m \u001b[0mtorch\u001b[0m\u001b[0;34m.\u001b[0m\u001b[0mtensor\u001b[0m\u001b[0;34m(\u001b[0m\u001b[0;34m[\u001b[0m\u001b[0;36m3\u001b[0m\u001b[0;34m,\u001b[0m \u001b[0;36m4\u001b[0m\u001b[0;34m,\u001b[0m \u001b[0;36m6\u001b[0m\u001b[0;34m]\u001b[0m\u001b[0;34m)\u001b[0m\u001b[0;34m\u001b[0m\u001b[0;34m\u001b[0m\u001b[0m\n\u001b[1;32m      3\u001b[0m \u001b[0mprint\u001b[0m\u001b[0;34m(\u001b[0m\u001b[0mw\u001b[0m \u001b[0;34m-\u001b[0m \u001b[0mv\u001b[0m\u001b[0;34m)\u001b[0m\u001b[0;34m\u001b[0m\u001b[0;34m\u001b[0m\u001b[0m\n\u001b[0;32m----> 4\u001b[0;31m \u001b[0mprint\u001b[0m\u001b[0;34m(\u001b[0m\u001b[0mtorch\u001b[0m\u001b[0;34m.\u001b[0m\u001b[0mcat\u001b[0m\u001b[0;34m[\u001b[0m\u001b[0mv\u001b[0m\u001b[0;34m,\u001b[0m\u001b[0mw\u001b[0m\u001b[0;34m]\u001b[0m\u001b[0;34m)\u001b[0m\u001b[0;34m\u001b[0m\u001b[0;34m\u001b[0m\u001b[0m\n\u001b[0m",
            "\u001b[0;31mTypeError\u001b[0m: 'builtin_function_or_method' object is not subscriptable"
          ]
        }
      ]
    },
    {
      "cell_type": "code",
      "source": [
        "temp = torch.tensor([[1, 2], [3, 4]])\n",
        "\n",
        "print(temp.shape) # tensor의 차원 return\n",
        "print('------------------------')\n",
        "print(temp.view(4,1)) # 4,1 차원으로 변환\n",
        "print('------------------------')\n",
        "print(temp.view(-1)) # 1차원 백터로 변환\n",
        "print('------------------------')\n",
        "print(temp.view(1, -1)) # -1dms (1,?)를 의미, 기존 tensor의 원소 갯수를 유지하려면 1X?가 있어야 되는데, 여기서 ?가 -1이고, 자동적으로 계산\n",
        "print('------------------------')\n",
        "print(temp.view(-1, 1)) # (?,1)을 의미\n",
        "print('------------------------')\n",
        "print(torch.transpose(temp,0,1)) # torch.transpose(X, dim=0, dim=1)\n"
      ],
      "metadata": {
        "colab": {
          "base_uri": "https://localhost:8080/"
        },
        "id": "pngihfkAl1fu",
        "outputId": "ded94281-3034-45d5-b88a-64b61c2ac39a"
      },
      "execution_count": null,
      "outputs": [
        {
          "output_type": "stream",
          "name": "stdout",
          "text": [
            "torch.Size([2, 2])\n",
            "------------------------\n",
            "tensor([[1],\n",
            "        [2],\n",
            "        [3],\n",
            "        [4]])\n",
            "------------------------\n",
            "tensor([1, 2, 3, 4])\n",
            "------------------------\n",
            "tensor([[1, 2, 3, 4]])\n",
            "------------------------\n",
            "tensor([[1],\n",
            "        [2],\n",
            "        [3],\n",
            "        [4]])\n",
            "------------------------\n",
            "tensor([[1, 3],\n",
            "        [2, 4]])\n"
          ]
        }
      ]
    },
    {
      "cell_type": "markdown",
      "source": [
        "Data 다루기"
      ],
      "metadata": {
        "id": "2i9dVFlCowoK"
      }
    },
    {
      "cell_type": "code",
      "source": [
        "import pandas as pd\n",
        "from google.colab import files # 데이터 불러오기\n",
        "file_uploaded=files.upload()   # 데이터 불러오기\n",
        "dataset = pd.read_csv('car_evaluation.csv')"
      ],
      "metadata": {
        "id": "lNNvYpRll1ct",
        "colab": {
          "resources": {
            "http://localhost:8080/nbextensions/google.colab/files.js": {
              "data": "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",
              "ok": true,
              "headers": [
                [
                  "content-type",
                  "application/javascript"
                ]
              ],
              "status": 200,
              "status_text": ""
            }
          },
          "base_uri": "https://localhost:8080/",
          "height": 74
        },
        "outputId": "7d944fdd-3509-469d-93c0-b90567ec3cd0"
      },
      "execution_count": 1,
      "outputs": [
        {
          "output_type": "display_data",
          "data": {
            "text/plain": [
              "<IPython.core.display.HTML object>"
            ],
            "text/html": [
              "\n",
              "     <input type=\"file\" id=\"files-86e22bc2-2503-46bc-a139-e5bf9f371358\" name=\"files[]\" multiple disabled\n",
              "        style=\"border:none\" />\n",
              "     <output id=\"result-86e22bc2-2503-46bc-a139-e5bf9f371358\">\n",
              "      Upload widget is only available when the cell has been executed in the\n",
              "      current browser session. Please rerun this cell to enable.\n",
              "      </output>\n",
              "      <script src=\"/nbextensions/google.colab/files.js\"></script> "
            ]
          },
          "metadata": {}
        },
        {
          "output_type": "stream",
          "name": "stdout",
          "text": [
            "Saving car_evaluation.csv to car_evaluation.csv\n"
          ]
        }
      ]
    },
    {
      "cell_type": "code",
      "source": [
        "dataset.head()"
      ],
      "metadata": {
        "colab": {
          "base_uri": "https://localhost:8080/",
          "height": 206
        },
        "id": "hrYibytCsty-",
        "outputId": "e442c575-53ea-49c6-eb48-bdac4f4ec16d"
      },
      "execution_count": 2,
      "outputs": [
        {
          "output_type": "execute_result",
          "data": {
            "text/plain": [
              "   price  maint doors persons lug_capacity safety output\n",
              "0  vhigh  vhigh     2       2        small    low  unacc\n",
              "1  vhigh  vhigh     2       2        small    med  unacc\n",
              "2  vhigh  vhigh     2       2        small   high  unacc\n",
              "3  vhigh  vhigh     2       2          med    low  unacc\n",
              "4  vhigh  vhigh     2       2          med    med  unacc"
            ],
            "text/html": [
              "\n",
              "  <div id=\"df-3637586d-0694-44d4-9f4b-bcafd5487d09\">\n",
              "    <div class=\"colab-df-container\">\n",
              "      <div>\n",
              "<style scoped>\n",
              "    .dataframe tbody tr th:only-of-type {\n",
              "        vertical-align: middle;\n",
              "    }\n",
              "\n",
              "    .dataframe tbody tr th {\n",
              "        vertical-align: top;\n",
              "    }\n",
              "\n",
              "    .dataframe thead th {\n",
              "        text-align: right;\n",
              "    }\n",
              "</style>\n",
              "<table border=\"1\" class=\"dataframe\">\n",
              "  <thead>\n",
              "    <tr style=\"text-align: right;\">\n",
              "      <th></th>\n",
              "      <th>price</th>\n",
              "      <th>maint</th>\n",
              "      <th>doors</th>\n",
              "      <th>persons</th>\n",
              "      <th>lug_capacity</th>\n",
              "      <th>safety</th>\n",
              "      <th>output</th>\n",
              "    </tr>\n",
              "  </thead>\n",
              "  <tbody>\n",
              "    <tr>\n",
              "      <th>0</th>\n",
              "      <td>vhigh</td>\n",
              "      <td>vhigh</td>\n",
              "      <td>2</td>\n",
              "      <td>2</td>\n",
              "      <td>small</td>\n",
              "      <td>low</td>\n",
              "      <td>unacc</td>\n",
              "    </tr>\n",
              "    <tr>\n",
              "      <th>1</th>\n",
              "      <td>vhigh</td>\n",
              "      <td>vhigh</td>\n",
              "      <td>2</td>\n",
              "      <td>2</td>\n",
              "      <td>small</td>\n",
              "      <td>med</td>\n",
              "      <td>unacc</td>\n",
              "    </tr>\n",
              "    <tr>\n",
              "      <th>2</th>\n",
              "      <td>vhigh</td>\n",
              "      <td>vhigh</td>\n",
              "      <td>2</td>\n",
              "      <td>2</td>\n",
              "      <td>small</td>\n",
              "      <td>high</td>\n",
              "      <td>unacc</td>\n",
              "    </tr>\n",
              "    <tr>\n",
              "      <th>3</th>\n",
              "      <td>vhigh</td>\n",
              "      <td>vhigh</td>\n",
              "      <td>2</td>\n",
              "      <td>2</td>\n",
              "      <td>med</td>\n",
              "      <td>low</td>\n",
              "      <td>unacc</td>\n",
              "    </tr>\n",
              "    <tr>\n",
              "      <th>4</th>\n",
              "      <td>vhigh</td>\n",
              "      <td>vhigh</td>\n",
              "      <td>2</td>\n",
              "      <td>2</td>\n",
              "      <td>med</td>\n",
              "      <td>med</td>\n",
              "      <td>unacc</td>\n",
              "    </tr>\n",
              "  </tbody>\n",
              "</table>\n",
              "</div>\n",
              "      <button class=\"colab-df-convert\" onclick=\"convertToInteractive('df-3637586d-0694-44d4-9f4b-bcafd5487d09')\"\n",
              "              title=\"Convert this dataframe to an interactive table.\"\n",
              "              style=\"display:none;\">\n",
              "        \n",
              "  <svg xmlns=\"http://www.w3.org/2000/svg\" height=\"24px\"viewBox=\"0 0 24 24\"\n",
              "       width=\"24px\">\n",
              "    <path d=\"M0 0h24v24H0V0z\" fill=\"none\"/>\n",
              "    <path d=\"M18.56 5.44l.94 2.06.94-2.06 2.06-.94-2.06-.94-.94-2.06-.94 2.06-2.06.94zm-11 1L8.5 8.5l.94-2.06 2.06-.94-2.06-.94L8.5 2.5l-.94 2.06-2.06.94zm10 10l.94 2.06.94-2.06 2.06-.94-2.06-.94-.94-2.06-.94 2.06-2.06.94z\"/><path d=\"M17.41 7.96l-1.37-1.37c-.4-.4-.92-.59-1.43-.59-.52 0-1.04.2-1.43.59L10.3 9.45l-7.72 7.72c-.78.78-.78 2.05 0 2.83L4 21.41c.39.39.9.59 1.41.59.51 0 1.02-.2 1.41-.59l7.78-7.78 2.81-2.81c.8-.78.8-2.07 0-2.86zM5.41 20L4 18.59l7.72-7.72 1.47 1.35L5.41 20z\"/>\n",
              "  </svg>\n",
              "      </button>\n",
              "      \n",
              "  <style>\n",
              "    .colab-df-container {\n",
              "      display:flex;\n",
              "      flex-wrap:wrap;\n",
              "      gap: 12px;\n",
              "    }\n",
              "\n",
              "    .colab-df-convert {\n",
              "      background-color: #E8F0FE;\n",
              "      border: none;\n",
              "      border-radius: 50%;\n",
              "      cursor: pointer;\n",
              "      display: none;\n",
              "      fill: #1967D2;\n",
              "      height: 32px;\n",
              "      padding: 0 0 0 0;\n",
              "      width: 32px;\n",
              "    }\n",
              "\n",
              "    .colab-df-convert:hover {\n",
              "      background-color: #E2EBFA;\n",
              "      box-shadow: 0px 1px 2px rgba(60, 64, 67, 0.3), 0px 1px 3px 1px rgba(60, 64, 67, 0.15);\n",
              "      fill: #174EA6;\n",
              "    }\n",
              "\n",
              "    [theme=dark] .colab-df-convert {\n",
              "      background-color: #3B4455;\n",
              "      fill: #D2E3FC;\n",
              "    }\n",
              "\n",
              "    [theme=dark] .colab-df-convert:hover {\n",
              "      background-color: #434B5C;\n",
              "      box-shadow: 0px 1px 3px 1px rgba(0, 0, 0, 0.15);\n",
              "      filter: drop-shadow(0px 1px 2px rgba(0, 0, 0, 0.3));\n",
              "      fill: #FFFFFF;\n",
              "    }\n",
              "  </style>\n",
              "\n",
              "      <script>\n",
              "        const buttonEl =\n",
              "          document.querySelector('#df-3637586d-0694-44d4-9f4b-bcafd5487d09 button.colab-df-convert');\n",
              "        buttonEl.style.display =\n",
              "          google.colab.kernel.accessAllowed ? 'block' : 'none';\n",
              "\n",
              "        async function convertToInteractive(key) {\n",
              "          const element = document.querySelector('#df-3637586d-0694-44d4-9f4b-bcafd5487d09');\n",
              "          const dataTable =\n",
              "            await google.colab.kernel.invokeFunction('convertToInteractive',\n",
              "                                                     [key], {});\n",
              "          if (!dataTable) return;\n",
              "\n",
              "          const docLinkHtml = 'Like what you see? Visit the ' +\n",
              "            '<a target=\"_blank\" href=https://colab.research.google.com/notebooks/data_table.ipynb>data table notebook</a>'\n",
              "            + ' to learn more about interactive tables.';\n",
              "          element.innerHTML = '';\n",
              "          dataTable['output_type'] = 'display_data';\n",
              "          await google.colab.output.renderOutput(dataTable, element);\n",
              "          const docLink = document.createElement('div');\n",
              "          docLink.innerHTML = docLinkHtml;\n",
              "          element.appendChild(docLink);\n",
              "        }\n",
              "      </script>\n",
              "    </div>\n",
              "  </div>\n",
              "  "
            ]
          },
          "metadata": {},
          "execution_count": 2
        }
      ]
    },
    {
      "cell_type": "markdown",
      "source": [
        "data 분포 그리기"
      ],
      "metadata": {
        "id": "B_Tpk0K0MyD1"
      }
    },
    {
      "cell_type": "code",
      "source": [
        "import matplotlib.pyplot as plt\n",
        "fig_size = plt.rcParams[\"figure.figsize\"]\n",
        "fig_size[0] = 8\n",
        "fig_size[1] = 6\n",
        "plt.rcParams[\"figure.figsize\"] = fig_size\n",
        "dataset.output.value_counts().plot(kind='pie', autopct='%0.05f%%', colors=['lightblue', 'lightgreen', 'orange', 'pink'], explode=(0.05, 0.05, 0.05,0.05))\n"
      ],
      "metadata": {
        "colab": {
          "base_uri": "https://localhost:8080/",
          "height": 375
        },
        "id": "IT5GV-NdMfA8",
        "outputId": "9610ad29-2058-4307-c12a-7f0cbc0d9ba0"
      },
      "execution_count": 3,
      "outputs": [
        {
          "output_type": "execute_result",
          "data": {
            "text/plain": [
              "<matplotlib.axes._subplots.AxesSubplot at 0x7fc517180850>"
            ]
          },
          "metadata": {},
          "execution_count": 3
        },
        {
          "output_type": "display_data",
          "data": {
            "text/plain": [
              "<Figure size 576x432 with 1 Axes>"
            ],
            "image/png": "[encoded data removed]"
          },
          "metadata": {}
        }
      ]
    },
    {
      "cell_type": "markdown",
      "source": [
        "proprecessing"
      ],
      "metadata": {
        "id": "VMJHkw5LNTlE"
      }
    },
    {
      "cell_type": "code",
      "source": [
        "# ouput 제외한 columns\n",
        "categorical_columns = ['price', 'maint', 'doors', 'persons', 'lug_capacity', 'safety']\n",
        "\n",
        "# data를 범주형으로 바꿈\n",
        "for category in categorical_columns:\n",
        "    dataset[category] = dataset[category].astype('category')"
      ],
      "metadata": {
        "id": "WOZ1kizOMfqp"
      },
      "execution_count": 5,
      "outputs": []
    },
    {
      "cell_type": "code",
      "source": [
        "# 범주형 데어터를 텐서로 변환하는 코드\n",
        "# category data --> ndarray --> Tensor\n",
        "#.cat.codes <-- 범주형 데어터를 ndarray로 바꿔주는 코드\n",
        "# np.stack은 두 개 이상의 ndarray 객체를 합칠때 사용.\n",
        "import numpy as np\n",
        "\n",
        "price = dataset['price'].cat.codes.values\n",
        "maint = dataset['maint'].cat.codes.values\n",
        "doors = dataset['doors'].cat.codes.values\n",
        "persons = dataset['persons'].cat.codes.values\n",
        "lug_capacity = dataset['lug_capacity'].cat.codes.values\n",
        "safety = dataset['safety'].cat.codes.values\n",
        "\n",
        "categorical_data = np.stack([price, maint, doors, persons, lug_capacity, safety], 1)\n",
        "categorical_data[:10]"
      ],
      "metadata": {
        "colab": {
          "base_uri": "https://localhost:8080/"
        },
        "id": "O4fNCagRMftB",
        "outputId": "b5d8d68a-facd-4fb8-89f5-dff5a5ee7170"
      },
      "execution_count": 6,
      "outputs": [
        {
          "output_type": "execute_result",
          "data": {
            "text/plain": [
              "array([[3, 3, 0, 0, 2, 1],\n",
              "       [3, 3, 0, 0, 2, 2],\n",
              "       [3, 3, 0, 0, 2, 0],\n",
              "       [3, 3, 0, 0, 1, 1],\n",
              "       [3, 3, 0, 0, 1, 2],\n",
              "       [3, 3, 0, 0, 1, 0],\n",
              "       [3, 3, 0, 0, 0, 1],\n",
              "       [3, 3, 0, 0, 0, 2],\n",
              "       [3, 3, 0, 0, 0, 0],\n",
              "       [3, 3, 0, 1, 2, 1]], dtype=int8)"
            ]
          },
          "metadata": {},
          "execution_count": 6
        }
      ]
    },
    {
      "cell_type": "code",
      "source": [
        "#ndarray를 tensor로 전환\n",
        "categorical_data = torch.tensor(categorical_data, dtype=torch.int64)\n",
        "categorical_data[:10]"
      ],
      "metadata": {
        "colab": {
          "base_uri": "https://localhost:8080/"
        },
        "id": "qfc6L5-dOX2T",
        "outputId": "66565794-cc59-4759-b8a5-4060b302f350"
      },
      "execution_count": 9,
      "outputs": [
        {
          "output_type": "execute_result",
          "data": {
            "text/plain": [
              "tensor([[3, 3, 0, 0, 2, 1],\n",
              "        [3, 3, 0, 0, 2, 2],\n",
              "        [3, 3, 0, 0, 2, 0],\n",
              "        [3, 3, 0, 0, 1, 1],\n",
              "        [3, 3, 0, 0, 1, 2],\n",
              "        [3, 3, 0, 0, 1, 0],\n",
              "        [3, 3, 0, 0, 0, 1],\n",
              "        [3, 3, 0, 0, 0, 2],\n",
              "        [3, 3, 0, 0, 0, 0],\n",
              "        [3, 3, 0, 1, 2, 1]])"
            ]
          },
          "metadata": {},
          "execution_count": 9
        }
      ]
    },
    {
      "cell_type": "code",
      "source": [
        "# 레이블(ouputs)로 사용할 column에 대해서도 tensor로 변환해줍니다. \n",
        "# get_dummies는 숫자는 그대로, category data는 one-hot vector로 만들어 줌\n",
        "\n",
        "outputs = pd.get_dummies(dataset.output)\n",
        "print(outputs)\n",
        "outputs = outputs.values\n",
        "print(outputs)\n",
        "outputs = torch.tensor(outputs).flatten()\n",
        "print(outputs)\n",
        "\n",
        "print(categorical_data.shape)\n",
        "print(outputs.shape)\n"
      ],
      "metadata": {
        "colab": {
          "base_uri": "https://localhost:8080/"
        },
        "id": "tqp0yga7Okn_",
        "outputId": "df040eba-3e05-4eda-f389-accfc3059c14"
      },
      "execution_count": 12,
      "outputs": [
        {
          "output_type": "stream",
          "name": "stdout",
          "text": [
            "      acc  good  unacc  vgood\n",
            "0       0     0      1      0\n",
            "1       0     0      1      0\n",
            "2       0     0      1      0\n",
            "3       0     0      1      0\n",
            "4       0     0      1      0\n",
            "...   ...   ...    ...    ...\n",
            "1723    0     1      0      0\n",
            "1724    0     0      0      1\n",
            "1725    0     0      1      0\n",
            "1726    0     1      0      0\n",
            "1727    0     0      0      1\n",
            "\n",
            "[1728 rows x 4 columns]\n",
            "[[0 0 1 0]\n",
            " [0 0 1 0]\n",
            " [0 0 1 0]\n",
            " ...\n",
            " [0 0 1 0]\n",
            " [0 1 0 0]\n",
            " [0 0 0 1]]\n",
            "tensor([0, 0, 1,  ..., 0, 0, 1], dtype=torch.uint8)\n",
            "torch.Size([1728, 6])\n",
            "torch.Size([6912])\n"
          ]
        }
      ]
    },
    {
      "cell_type": "markdown",
      "source": [
        "word embedding은 유사한 단어끼리 유사하게 인코딩 되면 좋음\n",
        "\n",
        "단일 숫자로 변환된 ndarray를 N차원 embedding으로 바꿔서 사용\n",
        "\n",
        "임베딩 크기에 대한 정환한 규칙은 없으나, 칼럼의 고유 값 수를 2로 나눈것을 많이 사용\n"
      ],
      "metadata": {
        "id": "oNKbzbSEQuOu"
      }
    },
    {
      "cell_type": "code",
      "source": [
        "categorical_column_sizes = [len(dataset[column].cat.categories) for column in categorical_columns] # 고유 값의 수 \n",
        "categorical_embedding_sizes = [(col_size, min(50, (col_size+1)//2)) for col_size in categorical_column_sizes]\n",
        "print(categorical_embedding_sizes)"
      ],
      "metadata": {
        "colab": {
          "base_uri": "https://localhost:8080/"
        },
        "id": "YhGu_EneQt7n",
        "outputId": "1b1d7ec2-f123-4270-b37c-3338a58e5ebc"
      },
      "execution_count": 13,
      "outputs": [
        {
          "output_type": "stream",
          "name": "stdout",
          "text": [
            "[(4, 2), (4, 2), (4, 2), (3, 2), (3, 2), (3, 2)]\n"
          ]
        }
      ]
    },
    {
      "cell_type": "markdown",
      "source": [
        "dataset 분리"
      ],
      "metadata": {
        "id": "bVWGM22HRv2V"
      }
    },
    {
      "cell_type": "code",
      "source": [
        "total_records = 1728\n",
        "test_records = int(total_records * .2) #20퍼만 test로\n",
        "\n",
        "categorical_train_data = categorical_data[:total_records - test_records]\n",
        "categorical_test_data = categorical_data[total_records - test_records:total_records]\n",
        "train_outputs = outputs[:total_records - test_records]\n",
        "test_outputs = outputs[total_records - test_records:total_records]"
      ],
      "metadata": {
        "id": "xxag1gySOkln"
      },
      "execution_count": 29,
      "outputs": []
    },
    {
      "cell_type": "code",
      "source": [
        "print(len(categorical_train_data))\n",
        "print(len(train_outputs))\n",
        "print(len(categorical_test_data))\n",
        "print(len(test_outputs))"
      ],
      "metadata": {
        "colab": {
          "base_uri": "https://localhost:8080/"
        },
        "id": "brb7XQoQSE0P",
        "outputId": "04ca800c-8d6b-4b94-9d74-b088b60158a3"
      },
      "execution_count": 15,
      "outputs": [
        {
          "output_type": "stream",
          "name": "stdout",
          "text": [
            "1383\n",
            "1383\n",
            "345\n",
            "345\n"
          ]
        }
      ]
    },
    {
      "cell_type": "markdown",
      "source": [
        "make model"
      ],
      "metadata": {
        "id": "AoyrUonkSMv4"
      }
    },
    {
      "cell_type": "code",
      "source": [
        "import torch.nn as nn\n",
        "\n",
        "class Model(nn.Module):\n",
        "    def __init__(self, embedding_size, output_size, layers, p=0.4):\n",
        "        super().__init__()\n",
        "        self.all_embeddings = nn.ModuleList([nn.Embedding(ni, nf) for ni, nf in embedding_size]) #embedding size\n",
        "        self.embedding_dropout = nn.Dropout(p)\n",
        "        \n",
        "        all_layers = [] # 모든 layer를 받아두려고 빈 array로 만듬\n",
        "        num_categorical_cols = sum((nf for ni, nf in embedding_size))\n",
        "        input_size = num_categorical_cols \n",
        "\n",
        "        # layer는 각 layer의 output size 지정\n",
        "        for i in layers:\n",
        "            all_layers.append(nn.Linear(input_size, i))\n",
        "            all_layers.append(nn.ReLU(inplace=True))\n",
        "            all_layers.append(nn.BatchNorm1d(i))\n",
        "            all_layers.append(nn.Dropout(p))\n",
        "            input_size = i\n",
        "\n",
        "        all_layers.append(nn.Linear(layers[-1], output_size))\n",
        "        self.layers = nn.Sequential(*all_layers)\n",
        "\n",
        "    def forward(self, x_categorical):\n",
        "        embeddings = []\n",
        "        for i,e in enumerate(self.all_embeddings):\n",
        "            embeddings.append(e(x_categorical[:,i]))\n",
        "        x = torch.cat(embeddings, 1)\n",
        "        x = self.embedding_dropout(x)\n",
        "        x = self.layers(x)\n",
        "        return x"
      ],
      "metadata": {
        "id": "l3GvLCP_SE2n"
      },
      "execution_count": 18,
      "outputs": []
    },
    {
      "cell_type": "code",
      "source": [
        "model = Model(categorical_embedding_sizes, 4, [200, 100, 50], p = 0.4)\n",
        "print(model)"
      ],
      "metadata": {
        "colab": {
          "base_uri": "https://localhost:8080/"
        },
        "id": "NoLgJ_cuUFwt",
        "outputId": "1d15fb79-bd0e-4dab-a802-1a3c02cfbc27"
      },
      "execution_count": 19,
      "outputs": [
        {
          "output_type": "stream",
          "name": "stdout",
          "text": [
            "Model(\n",
            "  (all_embeddings): ModuleList(\n",
            "    (0): Embedding(4, 2)\n",
            "    (1): Embedding(4, 2)\n",
            "    (2): Embedding(4, 2)\n",
            "    (3): Embedding(3, 2)\n",
            "    (4): Embedding(3, 2)\n",
            "    (5): Embedding(3, 2)\n",
            "  )\n",
            "  (embedding_dropout): Dropout(p=0.4, inplace=False)\n",
            "  (layers): Sequential(\n",
            "    (0): Linear(in_features=12, out_features=200, bias=True)\n",
            "    (1): ReLU(inplace=True)\n",
            "    (2): BatchNorm1d(200, eps=1e-05, momentum=0.1, affine=True, track_running_stats=True)\n",
            "    (3): Dropout(p=0.4, inplace=False)\n",
            "    (4): Linear(in_features=200, out_features=100, bias=True)\n",
            "    (5): ReLU(inplace=True)\n",
            "    (6): BatchNorm1d(100, eps=1e-05, momentum=0.1, affine=True, track_running_stats=True)\n",
            "    (7): Dropout(p=0.4, inplace=False)\n",
            "    (8): Linear(in_features=100, out_features=50, bias=True)\n",
            "    (9): ReLU(inplace=True)\n",
            "    (10): BatchNorm1d(50, eps=1e-05, momentum=0.1, affine=True, track_running_stats=True)\n",
            "    (11): Dropout(p=0.4, inplace=False)\n",
            "    (12): Linear(in_features=50, out_features=4, bias=True)\n",
            "  )\n",
            ")\n"
          ]
        }
      ]
    },
    {
      "cell_type": "markdown",
      "source": [
        "model의 loss와 hyperparameter 정의"
      ],
      "metadata": {
        "id": "417JixYNU6sF"
      }
    },
    {
      "cell_type": "code",
      "source": [
        "loss_function = nn.CrossEntropyLoss()\n",
        "optimizer = torch.optim.Adam(model.parameters(), lr=0.001)"
      ],
      "metadata": {
        "id": "vQ0VfhQOVDwq"
      },
      "execution_count": 20,
      "outputs": []
    },
    {
      "cell_type": "markdown",
      "source": [
        "GPU 사용하기\n"
      ],
      "metadata": {
        "id": "ZBhCJx8cVKBB"
      }
    },
    {
      "cell_type": "code",
      "source": [
        "if torch.cuda.is_available():\n",
        "    device = torch.device('cuda')\n",
        "else:\n",
        "    device = torch.device('cpu')\n",
        "print(device)"
      ],
      "metadata": {
        "colab": {
          "base_uri": "https://localhost:8080/"
        },
        "id": "1a8XKIb5VDzJ",
        "outputId": "8ffe8056-602a-4a6b-f52d-b341f398187b"
      },
      "execution_count": 22,
      "outputs": [
        {
          "output_type": "stream",
          "name": "stdout",
          "text": [
            "cuda\n"
          ]
        }
      ]
    },
    {
      "cell_type": "markdown",
      "source": [
        "model 학습"
      ],
      "metadata": {
        "id": "wTgZKhshVVyq"
      }
    },
    {
      "cell_type": "code",
      "source": [
        "epochs = 500\n",
        "aggregated_losses = []\n",
        "train_outputs = train_outputs.to(device=device, dtype=torch.int64)\n",
        "for i in range(epochs):\n",
        "    i += 1\n",
        "    y_pred = model(categorical_train_data).to(device)\n",
        "    single_loss = loss_function(y_pred, train_outputs)\n",
        "    aggregated_losses.append(single_loss)\n",
        "\n",
        "    if i%25 == 1: # 25번의 한번씩 모니터링\n",
        "        print(f'epoch: {i:3} loss: {single_loss.item():10.8f}')\n",
        "\n",
        "    optimizer.zero_grad()\n",
        "    single_loss.backward() # weghit 업데이트 하기위해 손실함수의 backword()메서드 호출\n",
        "    optimizer.step() # gradient update\n",
        "\n",
        "print(f'epoch: {i:3} loss: {single_loss.item():10.10f}')"
      ],
      "metadata": {
        "colab": {
          "base_uri": "https://localhost:8080/"
        },
        "id": "V60vDOxvVD1d",
        "outputId": "dd984623-b188-4731-f2d3-6b7c93a7e07a"
      },
      "execution_count": 30,
      "outputs": [
        {
          "output_type": "stream",
          "name": "stdout",
          "text": [
            "epoch:   1 loss: 0.57289404\n",
            "epoch:  26 loss: 0.56973171\n",
            "epoch:  51 loss: 0.57329839\n",
            "epoch:  76 loss: 0.56094652\n",
            "epoch: 101 loss: 0.56906742\n",
            "epoch: 126 loss: 0.56550574\n",
            "epoch: 151 loss: 0.56675291\n",
            "epoch: 176 loss: 0.56177682\n",
            "epoch: 201 loss: 0.55931497\n",
            "epoch: 226 loss: 0.56092572\n",
            "epoch: 251 loss: 0.55792385\n",
            "epoch: 276 loss: 0.55874193\n",
            "epoch: 301 loss: 0.56147635\n",
            "epoch: 326 loss: 0.56202644\n",
            "epoch: 351 loss: 0.55856752\n",
            "epoch: 376 loss: 0.55275291\n",
            "epoch: 401 loss: 0.55620700\n",
            "epoch: 426 loss: 0.55064285\n",
            "epoch: 451 loss: 0.55487597\n",
            "epoch: 476 loss: 0.56183755\n",
            "epoch: 500 loss: 0.5543729067\n"
          ]
        }
      ]
    },
    {
      "cell_type": "markdown",
      "source": [
        "테스트 데이터셋으로 모델 예측\n"
      ],
      "metadata": {
        "id": "yZn4GvlZU6mk"
      }
    },
    {
      "cell_type": "code",
      "source": [
        "test_outputs = test_outputs.to(device=device, dtype=torch.int64) # test ouput을 gpu에 올린다.\n",
        "\n",
        "with torch.no_grad(): # backpropagation 진행하지 않겠다\n",
        "    y_val = model(categorical_test_data).to(device)\n",
        "    loss = loss_function(y_val, test_outputs)\n",
        "print(f'Loss: {loss:.8f}')"
      ],
      "metadata": {
        "colab": {
          "base_uri": "https://localhost:8080/"
        },
        "id": "2dlVQRx0UzH3",
        "outputId": "9f689505-d029-4e3b-c10a-8b29ef3fb80b"
      },
      "execution_count": 31,
      "outputs": [
        {
          "output_type": "stream",
          "name": "stdout",
          "text": [
            "Loss: 0.52920914\n"
          ]
        }
      ]
    },
    {
      "cell_type": "code",
      "source": [
        "print(y_val[:5])"
      ],
      "metadata": {
        "colab": {
          "base_uri": "https://localhost:8080/"
        },
        "id": "xaU3ZX53UzKE",
        "outputId": "70730bb9-5d98-4fcd-d398-be4d19bb8055"
      },
      "execution_count": 32,
      "outputs": [
        {
          "output_type": "stream",
          "name": "stdout",
          "text": [
            "tensor([[ 3.0324,  1.8712, -3.7042, -3.5658],\n",
            "        [ 6.8597,  5.5508, -9.9066, -8.8994],\n",
            "        [ 2.9375,  1.8433, -4.2890, -4.1433],\n",
            "        [ 3.6718,  2.3227, -4.8819, -5.0386],\n",
            "        [ 4.6646,  3.5820, -7.2880, -7.2588]], device='cuda:0')\n"
          ]
        }
      ]
    },
    {
      "cell_type": "code",
      "source": [
        "# 예측 한거를 cpu로 내리고 ndarray로 변환 후 max값 취하자\n",
        "y_val = np.argmax(y_val.cpu().numpy(), axis=1)\n",
        "print(y_val[:5])\n",
        "# 처음 5개는 0번째 category로 분류되는 거임"
      ],
      "metadata": {
        "colab": {
          "base_uri": "https://localhost:8080/"
        },
        "id": "X2jtKVEWUFzG",
        "outputId": "8fe6f4a4-d8d1-4a7c-c455-0d8fb25a57c4"
      },
      "execution_count": 33,
      "outputs": [
        {
          "output_type": "stream",
          "name": "stdout",
          "text": [
            "[0 0 0 0 0]\n"
          ]
        }
      ]
    },
    {
      "cell_type": "markdown",
      "source": [
        "check score"
      ],
      "metadata": {
        "id": "Xq1sm5z4Xy_b"
      }
    },
    {
      "cell_type": "code",
      "source": [
        "import warnings\n",
        "warnings.filterwarnings('ignore') \n",
        "\n",
        "from sklearn.metrics import classification_report, confusion_matrix, accuracy_score\n",
        "\n",
        "test_outputs = test_outputs.cpu().numpy() # cpu로 내리고, ndarray로 바꿈\n",
        "print(confusion_matrix(test_outputs,y_val))\n",
        "print(classification_report(test_outputs,y_val))\n",
        "print(accuracy_score(test_outputs, y_val))"
      ],
      "metadata": {
        "colab": {
          "base_uri": "https://localhost:8080/"
        },
        "id": "YhVkDJU5X54d",
        "outputId": "a9a9ce28-3c58-40e3-9e03-0dd8d6739248"
      },
      "execution_count": 34,
      "outputs": [
        {
          "output_type": "stream",
          "name": "stdout",
          "text": [
            "[[259   0]\n",
            " [ 84   2]]\n",
            "              precision    recall  f1-score   support\n",
            "\n",
            "           0       0.76      1.00      0.86       259\n",
            "           1       1.00      0.02      0.05        86\n",
            "\n",
            "    accuracy                           0.76       345\n",
            "   macro avg       0.88      0.51      0.45       345\n",
            "weighted avg       0.82      0.76      0.66       345\n",
            "\n",
            "0.7565217391304347\n"
          ]
        }
      ]
    }
  ]
}
